{
 "cells": [
  {
   "cell_type": "markdown",
   "metadata": {},
   "source": [
    " Importing Required Libraries"
   ]
  },
  {
   "cell_type": "code",
   "execution_count": 1,
   "metadata": {},
   "outputs": [],
   "source": [
    "import pandas as pd\n",
    "import numpy as np\n",
    "from sklearn.model_selection import train_test_split\n",
    "from sklearn.linear_model import LogisticRegression\n",
    "from sklearn.tree import DecisionTreeClassifier\n",
    "from sklearn.metrics import classification_report\n",
    "from sklearn.ensemble import RandomForestClassifier, GradientBoostingClassifier\n",
    "from xgboost import XGBClassifier\n",
    "from lightgbm import LGBMClassifier\n",
    "from imblearn.over_sampling import SMOTE\n",
    "from sklearn.model_selection import RandomizedSearchCV"
   ]
  },
  {
   "cell_type": "code",
   "execution_count": 2,
   "metadata": {},
   "outputs": [
    {
     "name": "stdout",
     "output_type": "stream",
     "text": [
      "Requirement already satisfied: imblearn in c:\\users\\anupriya\\appdata\\local\\programs\\python\\python312\\lib\\site-packages (0.0)\n",
      "Requirement already satisfied: imbalanced-learn in c:\\users\\anupriya\\appdata\\local\\programs\\python\\python312\\lib\\site-packages (from imblearn) (0.13.0)\n",
      "Requirement already satisfied: numpy<3,>=1.24.3 in c:\\users\\anupriya\\appdata\\local\\programs\\python\\python312\\lib\\site-packages (from imbalanced-learn->imblearn) (2.1.3)\n",
      "Requirement already satisfied: scipy<2,>=1.10.1 in c:\\users\\anupriya\\appdata\\local\\programs\\python\\python312\\lib\\site-packages (from imbalanced-learn->imblearn) (1.15.0)\n",
      "Requirement already satisfied: scikit-learn<2,>=1.3.2 in c:\\users\\anupriya\\appdata\\local\\programs\\python\\python312\\lib\\site-packages (from imbalanced-learn->imblearn) (1.6.0)\n",
      "Requirement already satisfied: sklearn-compat<1,>=0.1 in c:\\users\\anupriya\\appdata\\local\\programs\\python\\python312\\lib\\site-packages (from imbalanced-learn->imblearn) (0.1.3)\n",
      "Requirement already satisfied: joblib<2,>=1.1.1 in c:\\users\\anupriya\\appdata\\local\\programs\\python\\python312\\lib\\site-packages (from imbalanced-learn->imblearn) (1.4.2)\n",
      "Requirement already satisfied: threadpoolctl<4,>=2.0.0 in c:\\users\\anupriya\\appdata\\local\\programs\\python\\python312\\lib\\site-packages (from imbalanced-learn->imblearn) (3.5.0)\n"
     ]
    }
   ],
   "source": [
    "!pip install imblearn"
   ]
  },
  {
   "cell_type": "code",
   "execution_count": 3,
   "metadata": {},
   "outputs": [
    {
     "name": "stdout",
     "output_type": "stream",
     "text": [
      "Requirement already satisfied: xgboost in c:\\users\\anupriya\\appdata\\local\\programs\\python\\python312\\lib\\site-packages (2.1.3)\n",
      "Requirement already satisfied: numpy in c:\\users\\anupriya\\appdata\\local\\programs\\python\\python312\\lib\\site-packages (from xgboost) (2.1.3)\n",
      "Requirement already satisfied: scipy in c:\\users\\anupriya\\appdata\\local\\programs\\python\\python312\\lib\\site-packages (from xgboost) (1.15.0)\n"
     ]
    }
   ],
   "source": [
    "!pip install xgboost"
   ]
  },
  {
   "cell_type": "code",
   "execution_count": 4,
   "metadata": {},
   "outputs": [
    {
     "name": "stdout",
     "output_type": "stream",
     "text": [
      "Requirement already satisfied: lightgbm in c:\\users\\anupriya\\appdata\\local\\programs\\python\\python312\\lib\\site-packages (4.5.0)\n",
      "Requirement already satisfied: numpy>=1.17.0 in c:\\users\\anupriya\\appdata\\local\\programs\\python\\python312\\lib\\site-packages (from lightgbm) (2.1.3)\n",
      "Requirement already satisfied: scipy in c:\\users\\anupriya\\appdata\\local\\programs\\python\\python312\\lib\\site-packages (from lightgbm) (1.15.0)\n"
     ]
    }
   ],
   "source": [
    "!pip install lightgbm"
   ]
  },
  {
   "cell_type": "code",
   "execution_count": 5,
   "metadata": {},
   "outputs": [
    {
     "name": "stdout",
     "output_type": "stream",
     "text": [
      "Requirement already satisfied: shap in c:\\users\\anupriya\\appdata\\local\\programs\\python\\python312\\lib\\site-packages (0.46.0)\n",
      "Requirement already satisfied: numpy in c:\\users\\anupriya\\appdata\\local\\programs\\python\\python312\\lib\\site-packages (from shap) (2.1.3)\n",
      "Requirement already satisfied: scipy in c:\\users\\anupriya\\appdata\\local\\programs\\python\\python312\\lib\\site-packages (from shap) (1.15.0)\n",
      "Requirement already satisfied: scikit-learn in c:\\users\\anupriya\\appdata\\local\\programs\\python\\python312\\lib\\site-packages (from shap) (1.6.0)\n",
      "Requirement already satisfied: pandas in c:\\users\\anupriya\\appdata\\local\\programs\\python\\python312\\lib\\site-packages (from shap) (2.2.3)\n",
      "Requirement already satisfied: tqdm>=4.27.0 in c:\\users\\anupriya\\appdata\\local\\programs\\python\\python312\\lib\\site-packages (from shap) (4.67.1)\n",
      "Requirement already satisfied: packaging>20.9 in c:\\users\\anupriya\\appdata\\roaming\\python\\python312\\site-packages (from shap) (24.1)\n",
      "Requirement already satisfied: slicer==0.0.8 in c:\\users\\anupriya\\appdata\\local\\programs\\python\\python312\\lib\\site-packages (from shap) (0.0.8)\n",
      "Requirement already satisfied: numba in c:\\users\\anupriya\\appdata\\local\\programs\\python\\python312\\lib\\site-packages (from shap) (0.61.0)\n",
      "Requirement already satisfied: cloudpickle in c:\\users\\anupriya\\appdata\\local\\programs\\python\\python312\\lib\\site-packages (from shap) (3.1.1)\n",
      "Requirement already satisfied: colorama in c:\\users\\anupriya\\appdata\\roaming\\python\\python312\\site-packages (from tqdm>=4.27.0->shap) (0.4.6)\n",
      "Requirement already satisfied: llvmlite<0.45,>=0.44.0dev0 in c:\\users\\anupriya\\appdata\\local\\programs\\python\\python312\\lib\\site-packages (from numba->shap) (0.44.0)\n",
      "Requirement already satisfied: python-dateutil>=2.8.2 in c:\\users\\anupriya\\appdata\\roaming\\python\\python312\\site-packages (from pandas->shap) (2.9.0.post0)\n",
      "Requirement already satisfied: pytz>=2020.1 in c:\\users\\anupriya\\appdata\\local\\programs\\python\\python312\\lib\\site-packages (from pandas->shap) (2024.2)\n",
      "Requirement already satisfied: tzdata>=2022.7 in c:\\users\\anupriya\\appdata\\local\\programs\\python\\python312\\lib\\site-packages (from pandas->shap) (2024.2)\n",
      "Requirement already satisfied: joblib>=1.2.0 in c:\\users\\anupriya\\appdata\\local\\programs\\python\\python312\\lib\\site-packages (from scikit-learn->shap) (1.4.2)\n",
      "Requirement already satisfied: threadpoolctl>=3.1.0 in c:\\users\\anupriya\\appdata\\local\\programs\\python\\python312\\lib\\site-packages (from scikit-learn->shap) (3.5.0)\n",
      "Requirement already satisfied: six>=1.5 in c:\\users\\anupriya\\appdata\\roaming\\python\\python312\\site-packages (from python-dateutil>=2.8.2->pandas->shap) (1.16.0)\n"
     ]
    }
   ],
   "source": [
    "!pip install shap"
   ]
  },
  {
   "cell_type": "markdown",
   "metadata": {},
   "source": [
    "importing processed train data"
   ]
  },
  {
   "cell_type": "code",
   "execution_count": 6,
   "metadata": {},
   "outputs": [
    {
     "data": {
      "text/html": [
       "<div>\n",
       "<style scoped>\n",
       "    .dataframe tbody tr th:only-of-type {\n",
       "        vertical-align: middle;\n",
       "    }\n",
       "\n",
       "    .dataframe tbody tr th {\n",
       "        vertical-align: top;\n",
       "    }\n",
       "\n",
       "    .dataframe thead th {\n",
       "        text-align: right;\n",
       "    }\n",
       "</style>\n",
       "<table border=\"1\" class=\"dataframe\">\n",
       "  <thead>\n",
       "    <tr style=\"text-align: right;\">\n",
       "      <th></th>\n",
       "      <th>Id</th>\n",
       "      <th>OrgId</th>\n",
       "      <th>IncidentId</th>\n",
       "      <th>AlertId</th>\n",
       "      <th>DetectorId</th>\n",
       "      <th>AlertTitle</th>\n",
       "      <th>Category</th>\n",
       "      <th>IncidentGrade</th>\n",
       "      <th>EntityType</th>\n",
       "      <th>EvidenceRole</th>\n",
       "      <th>IpAddress</th>\n",
       "      <th>Url</th>\n",
       "      <th>AccountName</th>\n",
       "      <th>DeviceName</th>\n",
       "      <th>NetworkMessageId</th>\n",
       "      <th>RegistryKey</th>\n",
       "      <th>RegistryValueData</th>\n",
       "      <th>ApplicationName</th>\n",
       "      <th>OAuthApplicationId</th>\n",
       "      <th>FileName</th>\n",
       "      <th>ResourceIdName</th>\n",
       "      <th>OSVersion</th>\n",
       "      <th>City</th>\n",
       "      <th>Day</th>\n",
       "      <th>Year</th>\n",
       "      <th>Hour</th>\n",
       "      <th>Time</th>\n",
       "    </tr>\n",
       "  </thead>\n",
       "  <tbody>\n",
       "    <tr>\n",
       "      <th>0</th>\n",
       "      <td>180388628218</td>\n",
       "      <td>0</td>\n",
       "      <td>612</td>\n",
       "      <td>123247</td>\n",
       "      <td>7</td>\n",
       "      <td>6</td>\n",
       "      <td>10</td>\n",
       "      <td>2</td>\n",
       "      <td>15</td>\n",
       "      <td>1</td>\n",
       "      <td>27</td>\n",
       "      <td>160396</td>\n",
       "      <td>453297</td>\n",
       "      <td>153085</td>\n",
       "      <td>529644</td>\n",
       "      <td>1631</td>\n",
       "      <td>860</td>\n",
       "      <td>3421</td>\n",
       "      <td>881</td>\n",
       "      <td>289573</td>\n",
       "      <td>3586</td>\n",
       "      <td>66</td>\n",
       "      <td>3</td>\n",
       "      <td>4</td>\n",
       "      <td>2024</td>\n",
       "      <td>6</td>\n",
       "      <td>21915</td>\n",
       "    </tr>\n",
       "    <tr>\n",
       "      <th>1</th>\n",
       "      <td>455266534868</td>\n",
       "      <td>88</td>\n",
       "      <td>326</td>\n",
       "      <td>210035</td>\n",
       "      <td>58</td>\n",
       "      <td>43</td>\n",
       "      <td>7</td>\n",
       "      <td>1</td>\n",
       "      <td>32</td>\n",
       "      <td>0</td>\n",
       "      <td>360606</td>\n",
       "      <td>160396</td>\n",
       "      <td>24887</td>\n",
       "      <td>153085</td>\n",
       "      <td>529644</td>\n",
       "      <td>1631</td>\n",
       "      <td>860</td>\n",
       "      <td>3421</td>\n",
       "      <td>881</td>\n",
       "      <td>289573</td>\n",
       "      <td>3586</td>\n",
       "      <td>66</td>\n",
       "      <td>10630</td>\n",
       "      <td>14</td>\n",
       "      <td>2024</td>\n",
       "      <td>3</td>\n",
       "      <td>10885</td>\n",
       "    </tr>\n",
       "    <tr>\n",
       "      <th>2</th>\n",
       "      <td>1056561957389</td>\n",
       "      <td>809</td>\n",
       "      <td>58352</td>\n",
       "      <td>712507</td>\n",
       "      <td>423</td>\n",
       "      <td>298</td>\n",
       "      <td>10</td>\n",
       "      <td>1</td>\n",
       "      <td>31</td>\n",
       "      <td>1</td>\n",
       "      <td>360606</td>\n",
       "      <td>68652</td>\n",
       "      <td>453297</td>\n",
       "      <td>153085</td>\n",
       "      <td>529644</td>\n",
       "      <td>1631</td>\n",
       "      <td>860</td>\n",
       "      <td>3421</td>\n",
       "      <td>881</td>\n",
       "      <td>289573</td>\n",
       "      <td>3586</td>\n",
       "      <td>66</td>\n",
       "      <td>10630</td>\n",
       "      <td>13</td>\n",
       "      <td>2024</td>\n",
       "      <td>4</td>\n",
       "      <td>17575</td>\n",
       "    </tr>\n",
       "    <tr>\n",
       "      <th>3</th>\n",
       "      <td>1279900258736</td>\n",
       "      <td>92</td>\n",
       "      <td>32992</td>\n",
       "      <td>774301</td>\n",
       "      <td>2</td>\n",
       "      <td>2</td>\n",
       "      <td>1</td>\n",
       "      <td>0</td>\n",
       "      <td>31</td>\n",
       "      <td>1</td>\n",
       "      <td>360606</td>\n",
       "      <td>13</td>\n",
       "      <td>453297</td>\n",
       "      <td>153085</td>\n",
       "      <td>529644</td>\n",
       "      <td>1631</td>\n",
       "      <td>860</td>\n",
       "      <td>3421</td>\n",
       "      <td>881</td>\n",
       "      <td>289573</td>\n",
       "      <td>3586</td>\n",
       "      <td>66</td>\n",
       "      <td>10630</td>\n",
       "      <td>10</td>\n",
       "      <td>2024</td>\n",
       "      <td>16</td>\n",
       "      <td>59976</td>\n",
       "    </tr>\n",
       "    <tr>\n",
       "      <th>4</th>\n",
       "      <td>214748368522</td>\n",
       "      <td>148</td>\n",
       "      <td>4359</td>\n",
       "      <td>188041</td>\n",
       "      <td>9</td>\n",
       "      <td>74</td>\n",
       "      <td>6</td>\n",
       "      <td>2</td>\n",
       "      <td>32</td>\n",
       "      <td>0</td>\n",
       "      <td>360606</td>\n",
       "      <td>160396</td>\n",
       "      <td>479</td>\n",
       "      <td>153085</td>\n",
       "      <td>529644</td>\n",
       "      <td>1631</td>\n",
       "      <td>860</td>\n",
       "      <td>3421</td>\n",
       "      <td>881</td>\n",
       "      <td>289573</td>\n",
       "      <td>3586</td>\n",
       "      <td>66</td>\n",
       "      <td>10630</td>\n",
       "      <td>15</td>\n",
       "      <td>2024</td>\n",
       "      <td>1</td>\n",
       "      <td>4087</td>\n",
       "    </tr>\n",
       "  </tbody>\n",
       "</table>\n",
       "</div>"
      ],
      "text/plain": [
       "              Id  OrgId  IncidentId  AlertId  DetectorId  AlertTitle  \\\n",
       "0   180388628218      0         612   123247           7           6   \n",
       "1   455266534868     88         326   210035          58          43   \n",
       "2  1056561957389    809       58352   712507         423         298   \n",
       "3  1279900258736     92       32992   774301           2           2   \n",
       "4   214748368522    148        4359   188041           9          74   \n",
       "\n",
       "   Category  IncidentGrade  EntityType  EvidenceRole  IpAddress     Url  \\\n",
       "0        10              2          15             1         27  160396   \n",
       "1         7              1          32             0     360606  160396   \n",
       "2        10              1          31             1     360606   68652   \n",
       "3         1              0          31             1     360606      13   \n",
       "4         6              2          32             0     360606  160396   \n",
       "\n",
       "   AccountName  DeviceName  NetworkMessageId  RegistryKey  RegistryValueData  \\\n",
       "0       453297      153085            529644         1631                860   \n",
       "1        24887      153085            529644         1631                860   \n",
       "2       453297      153085            529644         1631                860   \n",
       "3       453297      153085            529644         1631                860   \n",
       "4          479      153085            529644         1631                860   \n",
       "\n",
       "   ApplicationName  OAuthApplicationId  FileName  ResourceIdName  OSVersion  \\\n",
       "0             3421                 881    289573            3586         66   \n",
       "1             3421                 881    289573            3586         66   \n",
       "2             3421                 881    289573            3586         66   \n",
       "3             3421                 881    289573            3586         66   \n",
       "4             3421                 881    289573            3586         66   \n",
       "\n",
       "    City  Day  Year  Hour   Time  \n",
       "0      3    4  2024     6  21915  \n",
       "1  10630   14  2024     3  10885  \n",
       "2  10630   13  2024     4  17575  \n",
       "3  10630   10  2024    16  59976  \n",
       "4  10630   15  2024     1   4087  "
      ]
     },
     "execution_count": 6,
     "metadata": {},
     "output_type": "execute_result"
    }
   ],
   "source": [
    "\n",
    "df = pd.read_csv(\"C:/Users/ANUPRIYA/Desktop/Cybersecurity/traindata_processed.csv\")\n",
    "pd.set_option('display.max_columns', None)\n",
    "df.head()"
   ]
  },
  {
   "cell_type": "code",
   "execution_count": 7,
   "metadata": {},
   "outputs": [],
   "source": [
    "traindata = pd.read_csv(\"C:/Users/ANUPRIYA/Desktop/Cybersecurity/traindata_processed.csv\")"
   ]
  },
  {
   "cell_type": "code",
   "execution_count": 8,
   "metadata": {},
   "outputs": [
    {
     "data": {
      "text/plain": [
       "(8922805, 27)"
      ]
     },
     "execution_count": 8,
     "metadata": {},
     "output_type": "execute_result"
    }
   ],
   "source": [
    "traindata.shape"
   ]
  },
  {
   "cell_type": "markdown",
   "metadata": {},
   "source": [
    "Defining features (X) and target (y)"
   ]
  },
  {
   "cell_type": "code",
   "execution_count": 9,
   "metadata": {},
   "outputs": [],
   "source": [
    "X = traindata.drop(columns=['IncidentGrade','Id'])  \n",
    "y = traindata['IncidentGrade']  "
   ]
  },
  {
   "cell_type": "code",
   "execution_count": 10,
   "metadata": {},
   "outputs": [],
   "source": [
    "# Stratified train-validation split\n",
    "X_train, X_val, y_train, y_val = train_test_split(X, y, test_size=0.3, stratify=y, random_state=42)"
   ]
  },
  {
   "cell_type": "code",
   "execution_count": 11,
   "metadata": {},
   "outputs": [
    {
     "name": "stdout",
     "output_type": "stream",
     "text": [
      "Training set class distribution:\n",
      " IncidentGrade\n",
      "0    0.428991\n",
      "2    0.351921\n",
      "1    0.219088\n",
      "Name: proportion, dtype: float64\n",
      "Validation set class distribution:\n",
      " IncidentGrade\n",
      "0    0.428991\n",
      "2    0.351921\n",
      "1    0.219088\n",
      "Name: proportion, dtype: float64\n"
     ]
    }
   ],
   "source": [
    "# Checking class distribution in training and validation sets\n",
    "print(\"Training set class distribution:\\n\", y_train.value_counts(normalize=True))\n",
    "print(\"Validation set class distribution:\\n\", y_val.value_counts(normalize=True))"
   ]
  },
  {
   "cell_type": "markdown",
   "metadata": {},
   "source": [
    " Baseline Models "
   ]
  },
  {
   "cell_type": "code",
   "execution_count": 12,
   "metadata": {},
   "outputs": [
    {
     "name": "stdout",
     "output_type": "stream",
     "text": [
      "\n",
      "Training Logistic Regression...\n"
     ]
    },
    {
     "name": "stderr",
     "output_type": "stream",
     "text": [
      "c:\\Users\\ANUPRIYA\\AppData\\Local\\Programs\\Python\\Python312\\Lib\\site-packages\\sklearn\\linear_model\\_logistic.py:465: ConvergenceWarning: lbfgs failed to converge (status=1):\n",
      "STOP: TOTAL NO. OF ITERATIONS REACHED LIMIT.\n",
      "\n",
      "Increase the number of iterations (max_iter) or scale the data as shown in:\n",
      "    https://scikit-learn.org/stable/modules/preprocessing.html\n",
      "Please also refer to the documentation for alternative solver options:\n",
      "    https://scikit-learn.org/stable/modules/linear_model.html#logistic-regression\n",
      "  n_iter_i = _check_optimize_result(\n"
     ]
    },
    {
     "name": "stdout",
     "output_type": "stream",
     "text": [
      "Logistic Regression Classification Report:\n",
      "               precision    recall  f1-score   support\n",
      "\n",
      "     Class 0       0.61      0.45      0.51   1148340\n",
      "     Class 1       0.34      0.34      0.34    586464\n",
      "     Class 2       0.53      0.70      0.60    942038\n",
      "\n",
      "    accuracy                           0.51   2676842\n",
      "   macro avg       0.49      0.50      0.49   2676842\n",
      "weighted avg       0.52      0.51      0.51   2676842\n",
      "\n",
      "\n",
      "Training Decision Tree...\n",
      "Decision Tree Classification Report:\n",
      "               precision    recall  f1-score   support\n",
      "\n",
      "     Class 0       1.00      1.00      1.00   1148340\n",
      "     Class 1       0.99      0.99      0.99    586464\n",
      "     Class 2       1.00      1.00      1.00    942038\n",
      "\n",
      "    accuracy                           1.00   2676842\n",
      "   macro avg       1.00      1.00      1.00   2676842\n",
      "weighted avg       1.00      1.00      1.00   2676842\n",
      "\n"
     ]
    }
   ],
   "source": [
    "# Baseline Models\n",
    "baseline_models = {\n",
    "    'Logistic Regression': LogisticRegression(class_weight='balanced', random_state=42),\n",
    "    'Decision Tree': DecisionTreeClassifier(class_weight='balanced', random_state=42)\n",
    "}\n",
    "\n",
    "# Training and evaluation on validation set\n",
    "for name, model in baseline_models.items():\n",
    "    print(f\"\\nTraining {name}...\")\n",
    "    model.fit(X_train, y_train)\n",
    "    y_pred = model.predict(X_val)\n",
    "    print(f\"{name} Classification Report:\\n\", classification_report(y_val, y_pred, target_names=['Class 0', 'Class 1', 'Class 2']))"
   ]
  },
  {
   "cell_type": "code",
   "execution_count": 13,
   "metadata": {},
   "outputs": [],
   "source": [
    "# Optimize data types\n",
    "traindata = traindata.astype('float32')\n",
    "\n",
    "# Train in batches\n",
    "from sklearn.linear_model import SGDClassifier\n",
    "model = SGDClassifier()\n",
    "batch_size = 100000\n",
    "\n",
    "for i in range(0, len(X_train), batch_size):\n",
    "    X_batch = X_train[i:i + batch_size]\n",
    "    y_batch = y_train[i:i + batch_size]\n",
    "    model.partial_fit(X_batch, y_batch, classes=np.unique(y_train))\n"
   ]
  },
  {
   "cell_type": "code",
   "execution_count": 14,
   "metadata": {},
   "outputs": [
    {
     "name": "stdout",
     "output_type": "stream",
     "text": [
      "\n",
      "Training Random Forest...\n",
      "Random Forest Classification Report:\n",
      "               precision    recall  f1-score   support\n",
      "\n",
      "         0.0       0.74      0.95      0.83   1148340\n",
      "         1.0       0.83      0.72      0.77    586464\n",
      "         2.0       0.97      0.73      0.83    942038\n",
      "\n",
      "    accuracy                           0.82   2676842\n",
      "   macro avg       0.85      0.80      0.81   2676842\n",
      "weighted avg       0.84      0.82      0.82   2676842\n",
      "\n",
      "\n",
      "Training Gradient Boosting...\n"
     ]
    },
    {
     "ename": "KeyboardInterrupt",
     "evalue": "",
     "output_type": "error",
     "traceback": [
      "\u001b[1;31m---------------------------------------------------------------------------\u001b[0m",
      "\u001b[1;31mKeyboardInterrupt\u001b[0m                         Traceback (most recent call last)",
      "Cell \u001b[1;32mIn[14], line 35\u001b[0m\n\u001b[0;32m     32\u001b[0m \u001b[38;5;28mprint\u001b[39m(\u001b[38;5;124mf\u001b[39m\u001b[38;5;124m\"\u001b[39m\u001b[38;5;130;01m\\n\u001b[39;00m\u001b[38;5;124mTraining \u001b[39m\u001b[38;5;132;01m{\u001b[39;00mname\u001b[38;5;132;01m}\u001b[39;00m\u001b[38;5;124m...\u001b[39m\u001b[38;5;124m\"\u001b[39m)\n\u001b[0;32m     34\u001b[0m \u001b[38;5;66;03m# Model training\u001b[39;00m\n\u001b[1;32m---> 35\u001b[0m \u001b[43mmodel\u001b[49m\u001b[38;5;241;43m.\u001b[39;49m\u001b[43mfit\u001b[49m\u001b[43m(\u001b[49m\u001b[43mX_train\u001b[49m\u001b[43m,\u001b[49m\u001b[43m \u001b[49m\u001b[43my_train\u001b[49m\u001b[43m)\u001b[49m\n\u001b[0;32m     37\u001b[0m \u001b[38;5;66;03m# Predictions on validation data\u001b[39;00m\n\u001b[0;32m     38\u001b[0m y_pred \u001b[38;5;241m=\u001b[39m model\u001b[38;5;241m.\u001b[39mpredict(X_val)\n",
      "File \u001b[1;32mc:\\Users\\ANUPRIYA\\AppData\\Local\\Programs\\Python\\Python312\\Lib\\site-packages\\sklearn\\base.py:1389\u001b[0m, in \u001b[0;36m_fit_context.<locals>.decorator.<locals>.wrapper\u001b[1;34m(estimator, *args, **kwargs)\u001b[0m\n\u001b[0;32m   1382\u001b[0m     estimator\u001b[38;5;241m.\u001b[39m_validate_params()\n\u001b[0;32m   1384\u001b[0m \u001b[38;5;28;01mwith\u001b[39;00m config_context(\n\u001b[0;32m   1385\u001b[0m     skip_parameter_validation\u001b[38;5;241m=\u001b[39m(\n\u001b[0;32m   1386\u001b[0m         prefer_skip_nested_validation \u001b[38;5;129;01mor\u001b[39;00m global_skip_validation\n\u001b[0;32m   1387\u001b[0m     )\n\u001b[0;32m   1388\u001b[0m ):\n\u001b[1;32m-> 1389\u001b[0m     \u001b[38;5;28;01mreturn\u001b[39;00m \u001b[43mfit_method\u001b[49m\u001b[43m(\u001b[49m\u001b[43mestimator\u001b[49m\u001b[43m,\u001b[49m\u001b[43m \u001b[49m\u001b[38;5;241;43m*\u001b[39;49m\u001b[43margs\u001b[49m\u001b[43m,\u001b[49m\u001b[43m \u001b[49m\u001b[38;5;241;43m*\u001b[39;49m\u001b[38;5;241;43m*\u001b[39;49m\u001b[43mkwargs\u001b[49m\u001b[43m)\u001b[49m\n",
      "File \u001b[1;32mc:\\Users\\ANUPRIYA\\AppData\\Local\\Programs\\Python\\Python312\\Lib\\site-packages\\sklearn\\ensemble\\_gb.py:787\u001b[0m, in \u001b[0;36mBaseGradientBoosting.fit\u001b[1;34m(self, X, y, sample_weight, monitor)\u001b[0m\n\u001b[0;32m    784\u001b[0m     \u001b[38;5;28mself\u001b[39m\u001b[38;5;241m.\u001b[39m_resize_state()\n\u001b[0;32m    786\u001b[0m \u001b[38;5;66;03m# fit the boosting stages\u001b[39;00m\n\u001b[1;32m--> 787\u001b[0m n_stages \u001b[38;5;241m=\u001b[39m \u001b[38;5;28;43mself\u001b[39;49m\u001b[38;5;241;43m.\u001b[39;49m\u001b[43m_fit_stages\u001b[49m\u001b[43m(\u001b[49m\n\u001b[0;32m    788\u001b[0m \u001b[43m    \u001b[49m\u001b[43mX_train\u001b[49m\u001b[43m,\u001b[49m\n\u001b[0;32m    789\u001b[0m \u001b[43m    \u001b[49m\u001b[43my_train\u001b[49m\u001b[43m,\u001b[49m\n\u001b[0;32m    790\u001b[0m \u001b[43m    \u001b[49m\u001b[43mraw_predictions\u001b[49m\u001b[43m,\u001b[49m\n\u001b[0;32m    791\u001b[0m \u001b[43m    \u001b[49m\u001b[43msample_weight_train\u001b[49m\u001b[43m,\u001b[49m\n\u001b[0;32m    792\u001b[0m \u001b[43m    \u001b[49m\u001b[38;5;28;43mself\u001b[39;49m\u001b[38;5;241;43m.\u001b[39;49m\u001b[43m_rng\u001b[49m\u001b[43m,\u001b[49m\n\u001b[0;32m    793\u001b[0m \u001b[43m    \u001b[49m\u001b[43mX_val\u001b[49m\u001b[43m,\u001b[49m\n\u001b[0;32m    794\u001b[0m \u001b[43m    \u001b[49m\u001b[43my_val\u001b[49m\u001b[43m,\u001b[49m\n\u001b[0;32m    795\u001b[0m \u001b[43m    \u001b[49m\u001b[43msample_weight_val\u001b[49m\u001b[43m,\u001b[49m\n\u001b[0;32m    796\u001b[0m \u001b[43m    \u001b[49m\u001b[43mbegin_at_stage\u001b[49m\u001b[43m,\u001b[49m\n\u001b[0;32m    797\u001b[0m \u001b[43m    \u001b[49m\u001b[43mmonitor\u001b[49m\u001b[43m,\u001b[49m\n\u001b[0;32m    798\u001b[0m \u001b[43m\u001b[49m\u001b[43m)\u001b[49m\n\u001b[0;32m    800\u001b[0m \u001b[38;5;66;03m# change shape of arrays after fit (early-stopping or additional ests)\u001b[39;00m\n\u001b[0;32m    801\u001b[0m \u001b[38;5;28;01mif\u001b[39;00m n_stages \u001b[38;5;241m!=\u001b[39m \u001b[38;5;28mself\u001b[39m\u001b[38;5;241m.\u001b[39mestimators_\u001b[38;5;241m.\u001b[39mshape[\u001b[38;5;241m0\u001b[39m]:\n",
      "File \u001b[1;32mc:\\Users\\ANUPRIYA\\AppData\\Local\\Programs\\Python\\Python312\\Lib\\site-packages\\sklearn\\ensemble\\_gb.py:883\u001b[0m, in \u001b[0;36mBaseGradientBoosting._fit_stages\u001b[1;34m(self, X, y, raw_predictions, sample_weight, random_state, X_val, y_val, sample_weight_val, begin_at_stage, monitor)\u001b[0m\n\u001b[0;32m    876\u001b[0m         initial_loss \u001b[38;5;241m=\u001b[39m factor \u001b[38;5;241m*\u001b[39m \u001b[38;5;28mself\u001b[39m\u001b[38;5;241m.\u001b[39m_loss(\n\u001b[0;32m    877\u001b[0m             y_true\u001b[38;5;241m=\u001b[39my_oob_masked,\n\u001b[0;32m    878\u001b[0m             raw_prediction\u001b[38;5;241m=\u001b[39mraw_predictions[\u001b[38;5;241m~\u001b[39msample_mask],\n\u001b[0;32m    879\u001b[0m             sample_weight\u001b[38;5;241m=\u001b[39msample_weight_oob_masked,\n\u001b[0;32m    880\u001b[0m         )\n\u001b[0;32m    882\u001b[0m \u001b[38;5;66;03m# fit next stage of trees\u001b[39;00m\n\u001b[1;32m--> 883\u001b[0m raw_predictions \u001b[38;5;241m=\u001b[39m \u001b[38;5;28;43mself\u001b[39;49m\u001b[38;5;241;43m.\u001b[39;49m\u001b[43m_fit_stage\u001b[49m\u001b[43m(\u001b[49m\n\u001b[0;32m    884\u001b[0m \u001b[43m    \u001b[49m\u001b[43mi\u001b[49m\u001b[43m,\u001b[49m\n\u001b[0;32m    885\u001b[0m \u001b[43m    \u001b[49m\u001b[43mX\u001b[49m\u001b[43m,\u001b[49m\n\u001b[0;32m    886\u001b[0m \u001b[43m    \u001b[49m\u001b[43my\u001b[49m\u001b[43m,\u001b[49m\n\u001b[0;32m    887\u001b[0m \u001b[43m    \u001b[49m\u001b[43mraw_predictions\u001b[49m\u001b[43m,\u001b[49m\n\u001b[0;32m    888\u001b[0m \u001b[43m    \u001b[49m\u001b[43msample_weight\u001b[49m\u001b[43m,\u001b[49m\n\u001b[0;32m    889\u001b[0m \u001b[43m    \u001b[49m\u001b[43msample_mask\u001b[49m\u001b[43m,\u001b[49m\n\u001b[0;32m    890\u001b[0m \u001b[43m    \u001b[49m\u001b[43mrandom_state\u001b[49m\u001b[43m,\u001b[49m\n\u001b[0;32m    891\u001b[0m \u001b[43m    \u001b[49m\u001b[43mX_csc\u001b[49m\u001b[38;5;241;43m=\u001b[39;49m\u001b[43mX_csc\u001b[49m\u001b[43m,\u001b[49m\n\u001b[0;32m    892\u001b[0m \u001b[43m    \u001b[49m\u001b[43mX_csr\u001b[49m\u001b[38;5;241;43m=\u001b[39;49m\u001b[43mX_csr\u001b[49m\u001b[43m,\u001b[49m\n\u001b[0;32m    893\u001b[0m \u001b[43m\u001b[49m\u001b[43m)\u001b[49m\n\u001b[0;32m    895\u001b[0m \u001b[38;5;66;03m# track loss\u001b[39;00m\n\u001b[0;32m    896\u001b[0m \u001b[38;5;28;01mif\u001b[39;00m do_oob:\n",
      "File \u001b[1;32mc:\\Users\\ANUPRIYA\\AppData\\Local\\Programs\\Python\\Python312\\Lib\\site-packages\\sklearn\\ensemble\\_gb.py:489\u001b[0m, in \u001b[0;36mBaseGradientBoosting._fit_stage\u001b[1;34m(self, i, X, y, raw_predictions, sample_weight, sample_mask, random_state, X_csc, X_csr)\u001b[0m\n\u001b[0;32m    486\u001b[0m     sample_weight \u001b[38;5;241m=\u001b[39m sample_weight \u001b[38;5;241m*\u001b[39m sample_mask\u001b[38;5;241m.\u001b[39mastype(np\u001b[38;5;241m.\u001b[39mfloat64)\n\u001b[0;32m    488\u001b[0m X \u001b[38;5;241m=\u001b[39m X_csc \u001b[38;5;28;01mif\u001b[39;00m X_csc \u001b[38;5;129;01mis\u001b[39;00m \u001b[38;5;129;01mnot\u001b[39;00m \u001b[38;5;28;01mNone\u001b[39;00m \u001b[38;5;28;01melse\u001b[39;00m X\n\u001b[1;32m--> 489\u001b[0m \u001b[43mtree\u001b[49m\u001b[38;5;241;43m.\u001b[39;49m\u001b[43mfit\u001b[49m\u001b[43m(\u001b[49m\n\u001b[0;32m    490\u001b[0m \u001b[43m    \u001b[49m\u001b[43mX\u001b[49m\u001b[43m,\u001b[49m\u001b[43m \u001b[49m\u001b[43mneg_g_view\u001b[49m\u001b[43m[\u001b[49m\u001b[43m:\u001b[49m\u001b[43m,\u001b[49m\u001b[43m \u001b[49m\u001b[43mk\u001b[49m\u001b[43m]\u001b[49m\u001b[43m,\u001b[49m\u001b[43m \u001b[49m\u001b[43msample_weight\u001b[49m\u001b[38;5;241;43m=\u001b[39;49m\u001b[43msample_weight\u001b[49m\u001b[43m,\u001b[49m\u001b[43m \u001b[49m\u001b[43mcheck_input\u001b[49m\u001b[38;5;241;43m=\u001b[39;49m\u001b[38;5;28;43;01mFalse\u001b[39;49;00m\n\u001b[0;32m    491\u001b[0m \u001b[43m\u001b[49m\u001b[43m)\u001b[49m\n\u001b[0;32m    493\u001b[0m \u001b[38;5;66;03m# update tree leaves\u001b[39;00m\n\u001b[0;32m    494\u001b[0m X_for_tree_update \u001b[38;5;241m=\u001b[39m X_csr \u001b[38;5;28;01mif\u001b[39;00m X_csr \u001b[38;5;129;01mis\u001b[39;00m \u001b[38;5;129;01mnot\u001b[39;00m \u001b[38;5;28;01mNone\u001b[39;00m \u001b[38;5;28;01melse\u001b[39;00m X\n",
      "File \u001b[1;32mc:\\Users\\ANUPRIYA\\AppData\\Local\\Programs\\Python\\Python312\\Lib\\site-packages\\sklearn\\base.py:1389\u001b[0m, in \u001b[0;36m_fit_context.<locals>.decorator.<locals>.wrapper\u001b[1;34m(estimator, *args, **kwargs)\u001b[0m\n\u001b[0;32m   1382\u001b[0m     estimator\u001b[38;5;241m.\u001b[39m_validate_params()\n\u001b[0;32m   1384\u001b[0m \u001b[38;5;28;01mwith\u001b[39;00m config_context(\n\u001b[0;32m   1385\u001b[0m     skip_parameter_validation\u001b[38;5;241m=\u001b[39m(\n\u001b[0;32m   1386\u001b[0m         prefer_skip_nested_validation \u001b[38;5;129;01mor\u001b[39;00m global_skip_validation\n\u001b[0;32m   1387\u001b[0m     )\n\u001b[0;32m   1388\u001b[0m ):\n\u001b[1;32m-> 1389\u001b[0m     \u001b[38;5;28;01mreturn\u001b[39;00m \u001b[43mfit_method\u001b[49m\u001b[43m(\u001b[49m\u001b[43mestimator\u001b[49m\u001b[43m,\u001b[49m\u001b[43m \u001b[49m\u001b[38;5;241;43m*\u001b[39;49m\u001b[43margs\u001b[49m\u001b[43m,\u001b[49m\u001b[43m \u001b[49m\u001b[38;5;241;43m*\u001b[39;49m\u001b[38;5;241;43m*\u001b[39;49m\u001b[43mkwargs\u001b[49m\u001b[43m)\u001b[49m\n",
      "File \u001b[1;32mc:\\Users\\ANUPRIYA\\AppData\\Local\\Programs\\Python\\Python312\\Lib\\site-packages\\sklearn\\tree\\_classes.py:1399\u001b[0m, in \u001b[0;36mDecisionTreeRegressor.fit\u001b[1;34m(self, X, y, sample_weight, check_input)\u001b[0m\n\u001b[0;32m   1369\u001b[0m \u001b[38;5;129m@_fit_context\u001b[39m(prefer_skip_nested_validation\u001b[38;5;241m=\u001b[39m\u001b[38;5;28;01mTrue\u001b[39;00m)\n\u001b[0;32m   1370\u001b[0m \u001b[38;5;28;01mdef\u001b[39;00m \u001b[38;5;21mfit\u001b[39m(\u001b[38;5;28mself\u001b[39m, X, y, sample_weight\u001b[38;5;241m=\u001b[39m\u001b[38;5;28;01mNone\u001b[39;00m, check_input\u001b[38;5;241m=\u001b[39m\u001b[38;5;28;01mTrue\u001b[39;00m):\n\u001b[0;32m   1371\u001b[0m \u001b[38;5;250m    \u001b[39m\u001b[38;5;124;03m\"\"\"Build a decision tree regressor from the training set (X, y).\u001b[39;00m\n\u001b[0;32m   1372\u001b[0m \n\u001b[0;32m   1373\u001b[0m \u001b[38;5;124;03m    Parameters\u001b[39;00m\n\u001b[1;32m   (...)\u001b[0m\n\u001b[0;32m   1396\u001b[0m \u001b[38;5;124;03m        Fitted estimator.\u001b[39;00m\n\u001b[0;32m   1397\u001b[0m \u001b[38;5;124;03m    \"\"\"\u001b[39;00m\n\u001b[1;32m-> 1399\u001b[0m     \u001b[38;5;28;43msuper\u001b[39;49m\u001b[43m(\u001b[49m\u001b[43m)\u001b[49m\u001b[38;5;241;43m.\u001b[39;49m\u001b[43m_fit\u001b[49m\u001b[43m(\u001b[49m\n\u001b[0;32m   1400\u001b[0m \u001b[43m        \u001b[49m\u001b[43mX\u001b[49m\u001b[43m,\u001b[49m\n\u001b[0;32m   1401\u001b[0m \u001b[43m        \u001b[49m\u001b[43my\u001b[49m\u001b[43m,\u001b[49m\n\u001b[0;32m   1402\u001b[0m \u001b[43m        \u001b[49m\u001b[43msample_weight\u001b[49m\u001b[38;5;241;43m=\u001b[39;49m\u001b[43msample_weight\u001b[49m\u001b[43m,\u001b[49m\n\u001b[0;32m   1403\u001b[0m \u001b[43m        \u001b[49m\u001b[43mcheck_input\u001b[49m\u001b[38;5;241;43m=\u001b[39;49m\u001b[43mcheck_input\u001b[49m\u001b[43m,\u001b[49m\n\u001b[0;32m   1404\u001b[0m \u001b[43m    \u001b[49m\u001b[43m)\u001b[49m\n\u001b[0;32m   1405\u001b[0m     \u001b[38;5;28;01mreturn\u001b[39;00m \u001b[38;5;28mself\u001b[39m\n",
      "File \u001b[1;32mc:\\Users\\ANUPRIYA\\AppData\\Local\\Programs\\Python\\Python312\\Lib\\site-packages\\sklearn\\tree\\_classes.py:472\u001b[0m, in \u001b[0;36mBaseDecisionTree._fit\u001b[1;34m(self, X, y, sample_weight, check_input, missing_values_in_feature_mask)\u001b[0m\n\u001b[0;32m    461\u001b[0m \u001b[38;5;28;01melse\u001b[39;00m:\n\u001b[0;32m    462\u001b[0m     builder \u001b[38;5;241m=\u001b[39m BestFirstTreeBuilder(\n\u001b[0;32m    463\u001b[0m         splitter,\n\u001b[0;32m    464\u001b[0m         min_samples_split,\n\u001b[1;32m   (...)\u001b[0m\n\u001b[0;32m    469\u001b[0m         \u001b[38;5;28mself\u001b[39m\u001b[38;5;241m.\u001b[39mmin_impurity_decrease,\n\u001b[0;32m    470\u001b[0m     )\n\u001b[1;32m--> 472\u001b[0m \u001b[43mbuilder\u001b[49m\u001b[38;5;241;43m.\u001b[39;49m\u001b[43mbuild\u001b[49m\u001b[43m(\u001b[49m\u001b[38;5;28;43mself\u001b[39;49m\u001b[38;5;241;43m.\u001b[39;49m\u001b[43mtree_\u001b[49m\u001b[43m,\u001b[49m\u001b[43m \u001b[49m\u001b[43mX\u001b[49m\u001b[43m,\u001b[49m\u001b[43m \u001b[49m\u001b[43my\u001b[49m\u001b[43m,\u001b[49m\u001b[43m \u001b[49m\u001b[43msample_weight\u001b[49m\u001b[43m,\u001b[49m\u001b[43m \u001b[49m\u001b[43mmissing_values_in_feature_mask\u001b[49m\u001b[43m)\u001b[49m\n\u001b[0;32m    474\u001b[0m \u001b[38;5;28;01mif\u001b[39;00m \u001b[38;5;28mself\u001b[39m\u001b[38;5;241m.\u001b[39mn_outputs_ \u001b[38;5;241m==\u001b[39m \u001b[38;5;241m1\u001b[39m \u001b[38;5;129;01mand\u001b[39;00m is_classifier(\u001b[38;5;28mself\u001b[39m):\n\u001b[0;32m    475\u001b[0m     \u001b[38;5;28mself\u001b[39m\u001b[38;5;241m.\u001b[39mn_classes_ \u001b[38;5;241m=\u001b[39m \u001b[38;5;28mself\u001b[39m\u001b[38;5;241m.\u001b[39mn_classes_[\u001b[38;5;241m0\u001b[39m]\n",
      "\u001b[1;31mKeyboardInterrupt\u001b[0m: "
     ]
    }
   ],
   "source": [
    "import pandas as pd\n",
    "from sklearn.model_selection import train_test_split\n",
    "from sklearn.ensemble import RandomForestClassifier, GradientBoostingClassifier\n",
    "from sklearn.metrics import classification_report\n",
    "\n",
    "# Feature and target selection\n",
    "X = traindata.drop(columns=['IncidentGrade', 'Id'])  # Exclude target and unnecessary columns\n",
    "y = traindata['IncidentGrade']  # Target column\n",
    "\n",
    "# Stratified train-validation split\n",
    "X_train, X_val, y_train, y_val = train_test_split(X, y, test_size=0.3, stratify=y, random_state=42)\n",
    "\n",
    "# Advanced models definition\n",
    "advanced_models = {\n",
    "    'Random Forest': RandomForestClassifier(\n",
    "        n_estimators=100,      # Reduce number of trees for faster training\n",
    "        max_depth=10,          # Limit tree depth to save resources\n",
    "        class_weight='balanced',\n",
    "        max_features='sqrt',   # Use a subset of features\n",
    "        n_jobs=-1,             # Use all CPU cores\n",
    "        random_state=42\n",
    "    ),\n",
    "    'Gradient Boosting': GradientBoostingClassifier(\n",
    "        n_estimators=100,      # Reduce number of trees\n",
    "        max_depth=5,           # Limit tree depth\n",
    "        random_state=42\n",
    "    )\n",
    "}\n",
    "\n",
    "# Train and evaluate models\n",
    "for name, model in advanced_models.items():\n",
    "    print(f\"\\nTraining {name}...\")\n",
    "    \n",
    "    # Model training\n",
    "    model.fit(X_train, y_train)\n",
    "    \n",
    "    # Predictions on validation data\n",
    "    y_pred = model.predict(X_val)\n",
    "    \n",
    "    # Classification report\n",
    "    print(f\"{name} Classification Report:\\n\", classification_report(y_val, y_pred))\n"
   ]
  },
  {
   "cell_type": "code",
   "execution_count": 15,
   "metadata": {},
   "outputs": [],
   "source": [
    "# Sample 20% of the training data\n",
    "X_train_sample = X_train.sample(frac=0.01, random_state=42)\n",
    "y_train_sample = y_train.loc[X_train_sample.index]"
   ]
  },
  {
   "cell_type": "code",
   "execution_count": 16,
   "metadata": {},
   "outputs": [
    {
     "name": "stdout",
     "output_type": "stream",
     "text": [
      "Original Training Data Size: (6245963, 25)\n",
      "Sampled Training Data Size: (62460, 25)\n"
     ]
    }
   ],
   "source": [
    "# Check the sizes\n",
    "print(\"Original Training Data Size:\", X_train.shape)\n",
    "print(\"Sampled Training Data Size:\", X_train_sample.shape)"
   ]
  },
  {
   "cell_type": "markdown",
   "metadata": {},
   "source": [
    "SMOTE"
   ]
  },
  {
   "cell_type": "code",
   "execution_count": 17,
   "metadata": {},
   "outputs": [],
   "source": [
    "# Applying SMOTE to the training data\n",
    "smote = SMOTE(random_state=42)\n",
    "X_train_smote, y_train_smote = smote.fit_resample(X_train_sample, y_train_sample)"
   ]
  },
  {
   "cell_type": "code",
   "execution_count": 18,
   "metadata": {},
   "outputs": [
    {
     "name": "stdout",
     "output_type": "stream",
     "text": [
      "Original class distribution:\n",
      " IncidentGrade\n",
      "0.0    26765\n",
      "2.0    21941\n",
      "1.0    13754\n",
      "Name: count, dtype: int64\n",
      "After SMOTE class distribution:\n",
      " IncidentGrade\n",
      "2.0    26765\n",
      "0.0    26765\n",
      "1.0    26765\n",
      "Name: count, dtype: int64\n"
     ]
    }
   ],
   "source": [
    "# Checking the new class distribution\n",
    "print(\"Original class distribution:\\n\", y_train_sample.value_counts())\n",
    "print(\"After SMOTE class distribution:\\n\", y_train_smote.value_counts())"
   ]
  },
  {
   "cell_type": "markdown",
   "metadata": {},
   "source": [
    "Training RF model on class balanced data"
   ]
  },
  {
   "cell_type": "code",
   "execution_count": 19,
   "metadata": {},
   "outputs": [
    {
     "name": "stdout",
     "output_type": "stream",
     "text": [
      "Validation Set Classification Report (After SMOTE):\n",
      "              precision    recall  f1-score   support\n",
      "\n",
      "     Class 0       0.89      0.93      0.91   1148340\n",
      "     Class 1       0.87      0.86      0.87    586464\n",
      "     Class 2       0.94      0.89      0.92    942038\n",
      "\n",
      "    accuracy                           0.90   2676842\n",
      "   macro avg       0.90      0.90      0.90   2676842\n",
      "weighted avg       0.90      0.90      0.90   2676842\n",
      "\n"
     ]
    }
   ],
   "source": [
    "from sklearn.ensemble import RandomForestClassifier\n",
    "from sklearn.metrics import classification_report\n",
    "\n",
    "# Training the Random Forest model\n",
    "rf = RandomForestClassifier(random_state=42)  # You can adjust hyperparameters as needed\n",
    "rf.fit(X_train_smote, y_train_smote)\n",
    "\n",
    "# Prediction on the validation set\n",
    "y_val_pred = rf.predict(X_val)\n",
    "\n",
    "# Evaluate performance\n",
    "print(\"Validation Set Classification Report (After SMOTE):\")\n",
    "print(classification_report(y_val, y_val_pred, target_names=['Class 0', 'Class 1', 'Class 2']))\n"
   ]
  },
  {
   "cell_type": "code",
   "execution_count": 20,
   "metadata": {},
   "outputs": [
    {
     "name": "stderr",
     "output_type": "stream",
     "text": [
      "C:\\Users\\ANUPRIYA\\AppData\\Local\\Temp\\ipykernel_20284\\1175307835.py:17: FutureWarning: \n",
      "\n",
      "Passing `palette` without assigning `hue` is deprecated and will be removed in v0.14.0. Assign the `y` variable to `hue` and set `legend=False` for the same effect.\n",
      "\n",
      "  sns.barplot(x='Importance', y='Feature', data=feature_importance_df, palette='viridis')\n"
     ]
    },
    {
     "data": {
      "image/png": "[encoded data removed]",
      "text/plain": [
       "<Figure size 1000x600 with 1 Axes>"
      ]
     },
     "metadata": {},
     "output_type": "display_data"
    }
   ],
   "source": [
    "import matplotlib.pyplot as plt\n",
    "import seaborn as sns\n",
    "import pandas as pd\n",
    "\n",
    "# Get feature importances\n",
    "importances = rf.feature_importances_\n",
    "\n",
    "# Create a DataFrame for better visualization\n",
    "features = X_train_smote.columns  # Assuming X_train_smote is a DataFrame\n",
    "feature_importance_df = pd.DataFrame({'Feature': features, 'Importance': importances})\n",
    "\n",
    "# Sort the DataFrame by importance\n",
    "feature_importance_df = feature_importance_df.sort_values(by='Importance', ascending=False)\n",
    "\n",
    "# Plotting the feature importance\n",
    "plt.figure(figsize=(10, 6))\n",
    "sns.barplot(x='Importance', y='Feature', data=feature_importance_df, palette='viridis')\n",
    "plt.title('Feature Importance for Random Forest Model')\n",
    "plt.xlabel('Importance')\n",
    "plt.ylabel('Feature')\n",
    "plt.show()\n"
   ]
  },
  {
   "cell_type": "code",
   "execution_count": 21,
   "metadata": {},
   "outputs": [],
   "source": [
    "# Defining top 10 features based on important feature\n",
    "top_10_features = ['OrgId', 'IncidentId', 'AlertTitle', 'DetectorId', \n",
    "                   'AlertId', 'Category', 'Hour', 'Time', 'Day', 'EntityType']\n"
   ]
  },
  {
   "cell_type": "code",
   "execution_count": 22,
   "metadata": {},
   "outputs": [],
   "source": [
    "# Filter datasets for top 11 features\n",
    "X_train_top10 = X_train_smote[top_10_features]\n",
    "X_val_top10 = X_val[top_10_features]"
   ]
  },
  {
   "cell_type": "code",
   "execution_count": 23,
   "metadata": {},
   "outputs": [
    {
     "name": "stdout",
     "output_type": "stream",
     "text": [
      "Shape of training set with top features: (80295, 10)\n",
      "Shape of validation set with top features: (2676842, 10)\n"
     ]
    }
   ],
   "source": [
    "# Verify shapes\n",
    "print(\"Shape of training set with top features:\", X_train_top10.shape)\n",
    "print(\"Shape of validation set with top features:\", X_val_top10.shape)"
   ]
  },
  {
   "cell_type": "code",
   "execution_count": 24,
   "metadata": {},
   "outputs": [
    {
     "name": "stdout",
     "output_type": "stream",
     "text": [
      "Validation Set Classification Report (Top 11 Features):\n",
      "              precision    recall  f1-score   support\n",
      "\n",
      "     Class 0       0.91      0.94      0.93   1148340\n",
      "     Class 1       0.88      0.89      0.89    586464\n",
      "     Class 2       0.95      0.91      0.93    942038\n",
      "\n",
      "    accuracy                           0.92   2676842\n",
      "   macro avg       0.91      0.91      0.91   2676842\n",
      "weighted avg       0.92      0.92      0.92   2676842\n",
      "\n"
     ]
    }
   ],
   "source": [
    "from sklearn.ensemble import RandomForestClassifier\n",
    "from sklearn.metrics import classification_report\n",
    "\n",
    "# Train the Random Forest model with top 11 features\n",
    "rf_top10 = RandomForestClassifier(random_state=42)  # You can tune hyperparameters as needed\n",
    "rf_top10.fit(X_train_top10, y_train_smote)\n",
    "\n",
    "# Predict on the validation set\n",
    "y_val_pred_top10 = rf_top10.predict(X_val_top10)\n",
    "\n",
    "# Evaluate performance\n",
    "print(\"Validation Set Classification Report (Top 11 Features):\")\n",
    "print(classification_report(y_val, y_val_pred_top10, target_names=['Class 0', 'Class 1', 'Class 2']))\n"
   ]
  },
  {
   "cell_type": "code",
   "execution_count": 25,
   "metadata": {},
   "outputs": [
    {
     "name": "stdout",
     "output_type": "stream",
     "text": [
      "Fitting 3 folds for each of 20 candidates, totalling 60 fits\n",
      "Best Parameters: {'n_estimators': 200, 'min_samples_split': 5, 'min_samples_leaf': 1, 'max_features': 'log2', 'max_depth': 30, 'class_weight': 'balanced_subsample', 'bootstrap': False}\n",
      "Validation Set Classification Report (Tuned Top 11 Features):\n",
      "              precision    recall  f1-score   support\n",
      "\n",
      "     Class 0       0.92      0.94      0.93   1148340\n",
      "     Class 1       0.89      0.89      0.89    586464\n",
      "     Class 2       0.95      0.92      0.93    942038\n",
      "\n",
      "    accuracy                           0.92   2676842\n",
      "   macro avg       0.92      0.92      0.92   2676842\n",
      "weighted avg       0.92      0.92      0.92   2676842\n",
      "\n"
     ]
    }
   ],
   "source": [
    "from sklearn.ensemble import RandomForestClassifier\n",
    "from sklearn.model_selection import RandomizedSearchCV\n",
    "from sklearn.metrics import classification_report\n",
    "\n",
    "# Define hyperparameter grid for Random Forest\n",
    "param_distributions_rf = {\n",
    "    'n_estimators': [100, 200, 300],  # Number of trees\n",
    "    'max_depth': [None, 10, 20, 30],  # Maximum depth of each tree\n",
    "    'min_samples_split': [2, 5, 10],  # Minimum samples required to split a node\n",
    "    'min_samples_leaf': [1, 2, 4],  # Minimum samples required at each leaf node\n",
    "    'max_features': ['sqrt', 'log2', None],  # Number of features to consider for split\n",
    "    'bootstrap': [True, False],  # Whether to use bootstrap samples\n",
    "    'class_weight': [None, 'balanced', 'balanced_subsample'],  # Handling class imbalance\n",
    "}\n",
    "\n",
    "# Randomized search for Random Forest\n",
    "random_search_rf_top10 = RandomizedSearchCV(\n",
    "    estimator=RandomForestClassifier(random_state=42),\n",
    "    param_distributions=param_distributions_rf,\n",
    "    scoring='f1_macro',  # Use macro F1-score for evaluation\n",
    "    cv=3,\n",
    "    n_iter=20,  # Number of random combinations\n",
    "    verbose=1,\n",
    "    n_jobs=-1  # Use all available cores\n",
    ")\n",
    "\n",
    "# Perform hyperparameter tuning\n",
    "random_search_rf_top10.fit(X_train_top10, y_train_smote)\n",
    "\n",
    "# Get the best model\n",
    "best_rf_top10 = random_search_rf_top10.best_estimator_\n",
    "print(\"Best Parameters:\", random_search_rf_top10.best_params_)\n",
    "\n",
    "# Evaluate on validation set\n",
    "y_val_pred_best_rf_top10 = best_rf_top10.predict(X_val_top10)\n",
    "print(\"Validation Set Classification Report (Tuned Top 11 Features):\")\n",
    "print(classification_report(y_val, y_val_pred_best_rf_top10, target_names=['Class 0', 'Class 1', 'Class 2']))\n"
   ]
  },
  {
   "cell_type": "markdown",
   "metadata": {},
   "source": [
    "The hyperparameter tuned model gives best scores. Saving the model."
   ]
  },
  {
   "cell_type": "code",
   "execution_count": 26,
   "metadata": {},
   "outputs": [
    {
     "name": "stdout",
     "output_type": "stream",
     "text": [
      "Model saved as best_Random_forest_Classification_model_SMOTE.pkl\n"
     ]
    }
   ],
   "source": [
    "\n",
    "import joblib\n",
    "\n",
    "# Save the model\n",
    "joblib.dump(best_rf_top10, 'best_Random_forest_Classification_model_SMOTE.pkl')\n",
    "print(\"Model saved as best_Random_forest_Classification_model_SMOTE.pkl\")"
   ]
  },
  {
   "cell_type": "markdown",
   "metadata": {},
   "source": [
    "Final Evaluation on Test Set"
   ]
  },
  {
   "cell_type": "code",
   "execution_count": 28,
   "metadata": {},
   "outputs": [
    {
     "data": {
      "text/html": [
       "<div>\n",
       "<style scoped>\n",
       "    .dataframe tbody tr th:only-of-type {\n",
       "        vertical-align: middle;\n",
       "    }\n",
       "\n",
       "    .dataframe tbody tr th {\n",
       "        vertical-align: top;\n",
       "    }\n",
       "\n",
       "    .dataframe thead th {\n",
       "        text-align: right;\n",
       "    }\n",
       "</style>\n",
       "<table border=\"1\" class=\"dataframe\">\n",
       "  <thead>\n",
       "    <tr style=\"text-align: right;\">\n",
       "      <th></th>\n",
       "      <th>Id</th>\n",
       "      <th>OrgId</th>\n",
       "      <th>IncidentId</th>\n",
       "      <th>AlertId</th>\n",
       "      <th>DetectorId</th>\n",
       "      <th>AlertTitle</th>\n",
       "      <th>Category</th>\n",
       "      <th>IncidentGrade</th>\n",
       "      <th>EntityType</th>\n",
       "      <th>EvidenceRole</th>\n",
       "      <th>IpAddress</th>\n",
       "      <th>Url</th>\n",
       "      <th>AccountName</th>\n",
       "      <th>DeviceName</th>\n",
       "      <th>NetworkMessageId</th>\n",
       "      <th>RegistryKey</th>\n",
       "      <th>RegistryValueData</th>\n",
       "      <th>ApplicationName</th>\n",
       "      <th>OAuthApplicationId</th>\n",
       "      <th>FileName</th>\n",
       "      <th>ResourceIdName</th>\n",
       "      <th>OSVersion</th>\n",
       "      <th>City</th>\n",
       "      <th>Day</th>\n",
       "      <th>Year</th>\n",
       "      <th>Hour</th>\n",
       "      <th>Time</th>\n",
       "    </tr>\n",
       "  </thead>\n",
       "  <tbody>\n",
       "    <tr>\n",
       "      <th>0</th>\n",
       "      <td>1245540519230</td>\n",
       "      <td>657</td>\n",
       "      <td>11767</td>\n",
       "      <td>87199</td>\n",
       "      <td>524</td>\n",
       "      <td>563</td>\n",
       "      <td>11</td>\n",
       "      <td>0</td>\n",
       "      <td>28</td>\n",
       "      <td>0</td>\n",
       "      <td>360606</td>\n",
       "      <td>160396</td>\n",
       "      <td>863</td>\n",
       "      <td>153085</td>\n",
       "      <td>529644</td>\n",
       "      <td>1631</td>\n",
       "      <td>860</td>\n",
       "      <td>3421</td>\n",
       "      <td>881</td>\n",
       "      <td>289573</td>\n",
       "      <td>3586</td>\n",
       "      <td>66</td>\n",
       "      <td>10630</td>\n",
       "      <td>4</td>\n",
       "      <td>2024</td>\n",
       "      <td>22</td>\n",
       "      <td>82520</td>\n",
       "    </tr>\n",
       "    <tr>\n",
       "      <th>1</th>\n",
       "      <td>1400159342154</td>\n",
       "      <td>3</td>\n",
       "      <td>91158</td>\n",
       "      <td>632273</td>\n",
       "      <td>2</td>\n",
       "      <td>2</td>\n",
       "      <td>1</td>\n",
       "      <td>0</td>\n",
       "      <td>15</td>\n",
       "      <td>0</td>\n",
       "      <td>360606</td>\n",
       "      <td>160396</td>\n",
       "      <td>453297</td>\n",
       "      <td>2833</td>\n",
       "      <td>529644</td>\n",
       "      <td>1631</td>\n",
       "      <td>860</td>\n",
       "      <td>3421</td>\n",
       "      <td>881</td>\n",
       "      <td>289573</td>\n",
       "      <td>3586</td>\n",
       "      <td>0</td>\n",
       "      <td>10630</td>\n",
       "      <td>3</td>\n",
       "      <td>2024</td>\n",
       "      <td>12</td>\n",
       "      <td>46649</td>\n",
       "    </tr>\n",
       "    <tr>\n",
       "      <th>2</th>\n",
       "      <td>1279900255923</td>\n",
       "      <td>145</td>\n",
       "      <td>32247</td>\n",
       "      <td>131719</td>\n",
       "      <td>2932</td>\n",
       "      <td>10807</td>\n",
       "      <td>11</td>\n",
       "      <td>0</td>\n",
       "      <td>23</td>\n",
       "      <td>1</td>\n",
       "      <td>360606</td>\n",
       "      <td>160396</td>\n",
       "      <td>453297</td>\n",
       "      <td>153085</td>\n",
       "      <td>529644</td>\n",
       "      <td>1631</td>\n",
       "      <td>860</td>\n",
       "      <td>3421</td>\n",
       "      <td>881</td>\n",
       "      <td>14</td>\n",
       "      <td>3586</td>\n",
       "      <td>66</td>\n",
       "      <td>10630</td>\n",
       "      <td>8</td>\n",
       "      <td>2024</td>\n",
       "      <td>3</td>\n",
       "      <td>12037</td>\n",
       "    </tr>\n",
       "    <tr>\n",
       "      <th>3</th>\n",
       "      <td>60129547292</td>\n",
       "      <td>222</td>\n",
       "      <td>15294</td>\n",
       "      <td>917686</td>\n",
       "      <td>0</td>\n",
       "      <td>0</td>\n",
       "      <td>10</td>\n",
       "      <td>1</td>\n",
       "      <td>7</td>\n",
       "      <td>1</td>\n",
       "      <td>360606</td>\n",
       "      <td>160396</td>\n",
       "      <td>453297</td>\n",
       "      <td>153085</td>\n",
       "      <td>529644</td>\n",
       "      <td>1631</td>\n",
       "      <td>860</td>\n",
       "      <td>3421</td>\n",
       "      <td>881</td>\n",
       "      <td>289573</td>\n",
       "      <td>3586</td>\n",
       "      <td>66</td>\n",
       "      <td>10630</td>\n",
       "      <td>12</td>\n",
       "      <td>2024</td>\n",
       "      <td>12</td>\n",
       "      <td>43594</td>\n",
       "    </tr>\n",
       "    <tr>\n",
       "      <th>4</th>\n",
       "      <td>515396080539</td>\n",
       "      <td>363</td>\n",
       "      <td>7615</td>\n",
       "      <td>5944</td>\n",
       "      <td>27</td>\n",
       "      <td>18</td>\n",
       "      <td>5</td>\n",
       "      <td>0</td>\n",
       "      <td>28</td>\n",
       "      <td>0</td>\n",
       "      <td>360606</td>\n",
       "      <td>160396</td>\n",
       "      <td>136104</td>\n",
       "      <td>153085</td>\n",
       "      <td>529644</td>\n",
       "      <td>1631</td>\n",
       "      <td>860</td>\n",
       "      <td>3421</td>\n",
       "      <td>881</td>\n",
       "      <td>289573</td>\n",
       "      <td>3586</td>\n",
       "      <td>66</td>\n",
       "      <td>10630</td>\n",
       "      <td>6</td>\n",
       "      <td>2024</td>\n",
       "      <td>17</td>\n",
       "      <td>63665</td>\n",
       "    </tr>\n",
       "  </tbody>\n",
       "</table>\n",
       "</div>"
      ],
      "text/plain": [
       "              Id  OrgId  IncidentId  AlertId  DetectorId  AlertTitle  \\\n",
       "0  1245540519230    657       11767    87199         524         563   \n",
       "1  1400159342154      3       91158   632273           2           2   \n",
       "2  1279900255923    145       32247   131719        2932       10807   \n",
       "3    60129547292    222       15294   917686           0           0   \n",
       "4   515396080539    363        7615     5944          27          18   \n",
       "\n",
       "   Category  IncidentGrade  EntityType  EvidenceRole  IpAddress     Url  \\\n",
       "0        11              0          28             0     360606  160396   \n",
       "1         1              0          15             0     360606  160396   \n",
       "2        11              0          23             1     360606  160396   \n",
       "3        10              1           7             1     360606  160396   \n",
       "4         5              0          28             0     360606  160396   \n",
       "\n",
       "   AccountName  DeviceName  NetworkMessageId  RegistryKey  RegistryValueData  \\\n",
       "0          863      153085            529644         1631                860   \n",
       "1       453297        2833            529644         1631                860   \n",
       "2       453297      153085            529644         1631                860   \n",
       "3       453297      153085            529644         1631                860   \n",
       "4       136104      153085            529644         1631                860   \n",
       "\n",
       "   ApplicationName  OAuthApplicationId  FileName  ResourceIdName  OSVersion  \\\n",
       "0             3421                 881    289573            3586         66   \n",
       "1             3421                 881    289573            3586          0   \n",
       "2             3421                 881        14            3586         66   \n",
       "3             3421                 881    289573            3586         66   \n",
       "4             3421                 881    289573            3586         66   \n",
       "\n",
       "    City  Day  Year  Hour   Time  \n",
       "0  10630    4  2024    22  82520  \n",
       "1  10630    3  2024    12  46649  \n",
       "2  10630    8  2024     3  12037  \n",
       "3  10630   12  2024    12  43594  \n",
       "4  10630    6  2024    17  63665  "
      ]
     },
     "execution_count": 28,
     "metadata": {},
     "output_type": "execute_result"
    }
   ],
   "source": [
    "# Loading test data\n",
    "test_data = pd.read_csv(\"C:/Users/ANUPRIYA/Desktop/Cybersecurity/testdata_processed.csv\")\n",
    "test_data.head()"
   ]
  },
  {
   "cell_type": "code",
   "execution_count": null,
   "metadata": {},
   "outputs": [],
   "source": []
  },
  {
   "cell_type": "code",
   "execution_count": 29,
   "metadata": {},
   "outputs": [],
   "source": [
    "# Selecting only top 10 features and setting features and target\n",
    "X_test_top10 = test_data[top_10_features] \n",
    "y_test = test_data['IncidentGrade']"
   ]
  },
  {
   "cell_type": "code",
   "execution_count": 30,
   "metadata": {},
   "outputs": [
    {
     "name": "stdout",
     "output_type": "stream",
     "text": [
      "Test Set Classification Report (Top 10 Features):\n",
      "              precision    recall  f1-score   support\n",
      "\n",
      "     Class 0       0.89      0.88      0.88   1752895\n",
      "     Class 1       0.80      0.85      0.83    902664\n",
      "     Class 2       0.91      0.89      0.90   1492329\n",
      "\n",
      "    accuracy                           0.88   4147888\n",
      "   macro avg       0.87      0.87      0.87   4147888\n",
      "weighted avg       0.88      0.88      0.88   4147888\n",
      "\n"
     ]
    }
   ],
   "source": [
    "# Predicting on the test set using the best model\n",
    "y_test_pred_top10 = best_rf_top10.predict(X_test_top10)\n",
    "\n",
    "# Evaluate performance on test data\n",
    "print(\"Test Set Classification Report (Top 10 Features):\")\n",
    "print(classification_report(y_test, y_test_pred_top10, target_names=['Class 0', 'Class 1', 'Class 2']))"
   ]
  }
 ],
 "metadata": {
  "kernelspec": {
   "display_name": "Python 3",
   "language": "python",
   "name": "python3"
  },
  "language_info": {
   "codemirror_mode": {
    "name": "ipython",
    "version": 3
   },
   "file_extension": ".py",
   "mimetype": "text/x-python",
   "name": "python",
   "nbconvert_exporter": "python",
   "pygments_lexer": "ipython3",
   "version": "3.12.4"
  }
 },
 "nbformat": 4,
 "nbformat_minor": 2
}
